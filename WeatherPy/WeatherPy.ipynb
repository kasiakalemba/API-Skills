{
 "cells": [
  {
   "cell_type": "markdown",
   "metadata": {},
   "source": [
    "# WeatherPy\n"
   ]
  },
  {
   "cell_type": "markdown",
   "metadata": {},
   "source": [
    "Observations:\n",
    "1. In the Northern Hemisphere, the higher the latitude shows a negative coorleation to the temperature. This makes sense as the closer you get to the north pole, the colder it gets. Since the southern hemisphere has negative values, there is a positive coorleation between the two, although it is not as strong as it is in the north. \n",
    "\n",
    "2. Humidity, cloudiness and wind speed did not display a coorelation to the latitude values. This suggests that these factors are not very location dependent. \n",
    "\n",
    "3. The number of values for the Northern Hemisphere from this particular data request was 381 and for the Southern one it was only 177. This makes the southern data more limited for drawing conclutions. "
   ]
  },
  {
   "cell_type": "code",
   "execution_count": 1,
   "metadata": {
    "scrolled": true
   },
   "outputs": [],
   "source": [
    "# Dependencies and Setup\n",
    "import matplotlib.pyplot as plt\n",
    "import pandas as pd\n",
    "import numpy as np\n",
    "import requests\n",
    "import time\n",
    "from scipy.stats import linregress\n",
    "import json\n",
    "\n",
    "# Import API key\n",
    "from api_keys import weather_api_key\n",
    "\n",
    "# Incorporated citipy to determine city based on latitude and longitude\n",
    "from citipy import citipy\n",
    "\n",
    "# Output File (CSV) - ASK GRETEL THIS \n",
    "output_data_file = \"../output_data/cities.csv\"\n",
    "\n",
    "# Range of latitudes and longitudes\n",
    "lat_range = (-90, 90)\n",
    "lng_range = (-180, 180)"
   ]
  },
  {
   "cell_type": "markdown",
   "metadata": {},
   "source": [
    "## Generate Cities List"
   ]
  },
  {
   "cell_type": "code",
   "execution_count": 2,
   "metadata": {},
   "outputs": [
    {
     "data": {
      "text/plain": [
       "596"
      ]
     },
     "execution_count": 2,
     "metadata": {},
     "output_type": "execute_result"
    }
   ],
   "source": [
    "# List for holding lat_lngs and cities\n",
    "lat_lngs = []\n",
    "cities = []\n",
    "\n",
    "# Create a set of random lat and lng combinations\n",
    "lats = np.random.uniform(low=-90.000, high=90.000, size=1500)\n",
    "lngs = np.random.uniform(low=-180.000, high=180.000, size=1500)\n",
    "lat_lngs = zip(lats, lngs)\n",
    "\n",
    "# Identify nearest city for each lat, lng combination\n",
    "for lat_lng in lat_lngs:\n",
    "    city = citipy.nearest_city(lat_lng[0], lat_lng[1]).city_name\n",
    "    \n",
    "    # If the city is unique, then add it to a our cities list\n",
    "    if city not in cities:\n",
    "        cities.append(city)\n",
    "\n",
    "# Print the city count to confirm sufficient count\n",
    "len(cities)"
   ]
  },
  {
   "cell_type": "markdown",
   "metadata": {},
   "source": [
    "### Perform API Calls\n",
    "* Perform a weather check on each city using a series of successive API calls.\n",
    "* Include a print log of each city as it'sbeing processed (with the city number and city name).\n"
   ]
  },
  {
   "cell_type": "code",
   "execution_count": 3,
   "metadata": {},
   "outputs": [
    {
     "name": "stdout",
     "output_type": "stream",
     "text": [
      "Processing request for: 1, kodiak\n",
      "Processing request for: 2, east london\n",
      "Processing request for: 3, guthrie\n",
      "Processing request for: 4, albany\n",
      "Processing request for: 5, tuktoyaktuk\n",
      "Processing request for: 6, puerto ayora\n",
      "Processing request for: 7, cagliliog\n",
      "Processing request for: 8, ponta do sol\n",
      "Processing request for: 9, longhua\n",
      "Processing request for: 10, birnin kebbi\n",
      "Processing request for: 11, broome\n",
      "Processing request for: 12, ushuaia\n",
      "Missing field/result... skipping.\n",
      "Processing request for: 14, alpena\n",
      "Processing request for: 15, leningradskiy\n",
      "Processing request for: 16, georgetown\n",
      "Processing request for: 17, vaini\n",
      "Processing request for: 18, mataura\n",
      "Processing request for: 19, atuona\n",
      "Processing request for: 20, kapaa\n",
      "Processing request for: 21, libreville\n",
      "Processing request for: 22, mahajanga\n",
      "Processing request for: 23, praya\n",
      "Missing field/result... skipping.\n",
      "Processing request for: 25, broken hill\n",
      "Processing request for: 26, tautira\n",
      "Processing request for: 27, chateaudun\n",
      "Processing request for: 28, jamestown\n",
      "Processing request for: 29, mar del plata\n",
      "Processing request for: 30, tura\n",
      "Processing request for: 31, cabedelo\n",
      "Processing request for: 32, cairns\n",
      "Processing request for: 33, esperance\n",
      "Missing field/result... skipping.\n",
      "Processing request for: 35, rikitea\n",
      "Processing request for: 36, barrow\n",
      "Processing request for: 37, cabo san lucas\n",
      "Processing request for: 38, road town\n",
      "Processing request for: 39, hilo\n",
      "Processing request for: 40, iqaluit\n",
      "Processing request for: 41, busselton\n",
      "Processing request for: 42, muroto\n",
      "Missing field/result... skipping.\n",
      "Processing request for: 44, port elizabeth\n",
      "Processing request for: 45, dangtu\n",
      "Processing request for: 46, kasulu\n",
      "Processing request for: 47, robertsport\n",
      "Processing request for: 48, umba\n",
      "Processing request for: 49, hambantota\n",
      "Processing request for: 50, tabat\n",
      "Processing request for: 51, camana\n",
      "Missing field/result... skipping.\n",
      "Missing field/result... skipping.\n",
      "Processing request for: 54, codrington\n",
      "Processing request for: 55, roela\n",
      "Processing request for: 56, victoria\n",
      "Processing request for: 57, kavieng\n",
      "Processing request for: 58, khorramshahr\n",
      "Processing request for: 59, provideniya\n",
      "Processing request for: 60, new norfolk\n",
      "Processing request for: 61, san quintin\n",
      "Processing request for: 62, punta arenas\n",
      "Processing request for: 63, komsomolskoye\n",
      "Processing request for: 64, feltre\n",
      "Processing request for: 65, kaitangata\n",
      "Processing request for: 66, tiksi\n",
      "Processing request for: 67, lysyye gory\n",
      "Processing request for: 68, marsh harbour\n",
      "Processing request for: 69, hasaki\n",
      "Processing request for: 70, oksfjord\n",
      "Processing request for: 71, gamba\n",
      "Processing request for: 72, motygino\n",
      "Processing request for: 73, tasiilaq\n",
      "Processing request for: 74, praia\n",
      "Processing request for: 75, sao filipe\n",
      "Processing request for: 76, brae\n",
      "Processing request for: 77, calama\n",
      "Processing request for: 78, khatanga\n",
      "Processing request for: 79, dikson\n",
      "Processing request for: 80, castro\n",
      "Processing request for: 81, benguela\n",
      "Processing request for: 82, cherskiy\n",
      "Processing request for: 83, westport\n",
      "Processing request for: 84, nouadhibou\n",
      "Processing request for: 85, longyearbyen\n",
      "Processing request for: 86, pathein\n",
      "Missing field/result... skipping.\n",
      "Processing request for: 88, sogamoso\n",
      "Processing request for: 89, puerto suarez\n",
      "Processing request for: 90, lengshuitan\n",
      "Processing request for: 91, bluff\n",
      "Processing request for: 92, lebu\n",
      "Processing request for: 93, badiraguato\n",
      "Missing field/result... skipping.\n",
      "Processing request for: 95, ribeira grande\n",
      "Processing request for: 96, soe\n",
      "Processing request for: 97, berlevag\n",
      "Processing request for: 98, bengkulu\n",
      "Missing field/result... skipping.\n",
      "Processing request for: 100, bansi\n",
      "Processing request for: 101, lata\n",
      "Processing request for: 102, clyde river\n",
      "Processing request for: 103, cape town\n",
      "Processing request for: 104, alofi\n",
      "Processing request for: 105, saint-philippe\n",
      "Missing field/result... skipping.\n",
      "Processing request for: 107, warrnambool\n",
      "Processing request for: 108, hermanus\n",
      "Processing request for: 109, yellowknife\n",
      "Processing request for: 110, walvis bay\n",
      "Processing request for: 111, srandakan\n",
      "Missing field/result... skipping.\n",
      "Processing request for: 113, along\n",
      "Processing request for: 114, north platte\n",
      "Processing request for: 115, pangnirtung\n",
      "Processing request for: 116, kizilskoye\n",
      "Processing request for: 117, malindi\n",
      "Processing request for: 118, constitucion\n",
      "Processing request for: 119, port alfred\n",
      "Processing request for: 120, nome\n",
      "Processing request for: 121, morondava\n",
      "Processing request for: 122, obidos\n",
      "Processing request for: 123, hualmay\n",
      "Processing request for: 124, kismayo\n",
      "Processing request for: 125, itoman\n",
      "Processing request for: 126, arraial do cabo\n",
      "Processing request for: 127, olafsvik\n",
      "Processing request for: 128, fortuna\n",
      "Processing request for: 129, petropavlovsk-kamchatskiy\n",
      "Processing request for: 130, itarema\n",
      "Processing request for: 131, poum\n",
      "Processing request for: 132, cidreira\n",
      "Processing request for: 133, hami\n",
      "Processing request for: 134, saskylakh\n",
      "Processing request for: 135, dalvik\n",
      "Processing request for: 136, colares\n",
      "Missing field/result... skipping.\n",
      "Processing request for: 138, iguape\n",
      "Processing request for: 139, camacha\n",
      "Processing request for: 140, victor harbor\n",
      "Processing request for: 141, masuguru\n",
      "Processing request for: 142, waw\n",
      "Processing request for: 143, dong hoi\n",
      "Processing request for: 144, upernavik\n",
      "Missing field/result... skipping.\n",
      "Processing request for: 146, hamilton\n",
      "Processing request for: 147, sistranda\n",
      "Processing request for: 148, esmeraldas\n",
      "Processing request for: 149, adre\n",
      "Processing request for: 150, timizart\n",
      "Processing request for: 151, mardin\n",
      "Processing request for: 152, grand-lahou\n",
      "Processing request for: 153, airai\n",
      "Missing field/result... skipping.\n",
      "Processing request for: 155, nabisar\n",
      "Processing request for: 156, bredasdorp\n",
      "Processing request for: 157, romitan\n",
      "Missing field/result... skipping.\n",
      "Processing request for: 159, asau\n",
      "Processing request for: 160, islamkot\n",
      "Processing request for: 161, bozoum\n",
      "Processing request for: 162, sao felix do xingu\n",
      "Processing request for: 163, quatre cocos\n",
      "Processing request for: 164, cayenne\n",
      "Processing request for: 165, tamara\n",
      "Missing field/result... skipping.\n",
      "Missing field/result... skipping.\n",
      "Processing request for: 168, aktau\n",
      "Processing request for: 169, huarmey\n",
      "Processing request for: 170, avera\n",
      "Processing request for: 171, anzio\n",
      "Processing request for: 172, prievidza\n",
      "Processing request for: 173, ruyigi\n",
      "Processing request for: 174, ngawi\n",
      "Processing request for: 175, kutum\n",
      "Processing request for: 176, bethel\n",
      "Processing request for: 177, goderich\n",
      "Processing request for: 178, lavrentiya\n",
      "Processing request for: 179, tuatapere\n",
      "Processing request for: 180, plettenberg bay\n",
      "Processing request for: 181, saint george\n",
      "Processing request for: 182, santa isabel do rio negro\n",
      "Processing request for: 183, yulara\n",
      "Missing field/result... skipping.\n",
      "Processing request for: 185, ovsyanka\n",
      "Processing request for: 186, vysokogornyy\n",
      "Processing request for: 187, chokurdakh\n",
      "Processing request for: 188, aripuana\n",
      "Missing field/result... skipping.\n",
      "Processing request for: 190, carnarvon\n",
      "Processing request for: 191, rawson\n",
      "Processing request for: 192, launceston\n",
      "Processing request for: 193, khash\n",
      "Processing request for: 194, srednekolymsk\n",
      "Processing request for: 195, port-cartier\n",
      "Processing request for: 196, severo-yeniseyskiy\n",
      "Processing request for: 197, biltine\n",
      "Processing request for: 198, guerrero negro\n",
      "Processing request for: 199, montilla\n",
      "Processing request for: 200, fernley\n",
      "Processing request for: 201, griffith\n",
      "Processing request for: 202, san cristobal\n",
      "Processing request for: 203, chipoka\n",
      "Processing request for: 204, hobart\n",
      "Missing field/result... skipping.\n",
      "Processing request for: 206, acarau\n",
      "Processing request for: 207, la palma\n",
      "Processing request for: 208, sokoni\n",
      "Processing request for: 209, dingle\n",
      "Processing request for: 210, huanan\n",
      "Missing field/result... skipping.\n",
      "Processing request for: 212, bouafle\n",
      "Processing request for: 213, saquarema\n",
      "Processing request for: 214, padang\n",
      "Processing request for: 215, koslan\n",
      "Processing request for: 216, aklavik\n",
      "Processing request for: 217, bandarbeyla\n",
      "Processing request for: 218, fairbanks\n",
      "Processing request for: 219, tucumcari\n",
      "Processing request for: 220, vrede\n"
     ]
    },
    {
     "name": "stdout",
     "output_type": "stream",
     "text": [
      "Processing request for: 221, ardu\n",
      "Processing request for: 222, chuy\n",
      "Processing request for: 223, nsanje\n",
      "Processing request for: 224, del rio\n",
      "Processing request for: 225, kudahuvadhoo\n",
      "Processing request for: 226, solnechnyy\n",
      "Processing request for: 227, husavik\n",
      "Processing request for: 228, alice springs\n",
      "Processing request for: 229, sobolevo\n",
      "Processing request for: 230, qaanaaq\n",
      "Processing request for: 231, vao\n",
      "Processing request for: 232, faya\n",
      "Processing request for: 233, bordesti\n",
      "Processing request for: 234, pokhara\n",
      "Processing request for: 235, havoysund\n",
      "Missing field/result... skipping.\n",
      "Processing request for: 237, mao\n",
      "Processing request for: 238, kirakira\n",
      "Missing field/result... skipping.\n",
      "Missing field/result... skipping.\n",
      "Processing request for: 241, kloulklubed\n",
      "Processing request for: 242, soligalich\n",
      "Missing field/result... skipping.\n",
      "Missing field/result... skipping.\n",
      "Processing request for: 245, wynyard\n",
      "Processing request for: 246, nieuw amsterdam\n",
      "Processing request for: 247, port blair\n",
      "Processing request for: 248, mbandaka\n",
      "Processing request for: 249, san patricio\n",
      "Processing request for: 250, mozarlandia\n",
      "Processing request for: 251, nanortalik\n",
      "Processing request for: 252, vanavara\n",
      "Processing request for: 253, talaya\n",
      "Processing request for: 254, mabaruma\n",
      "Processing request for: 255, maningrida\n",
      "Processing request for: 256, sioux lookout\n",
      "Processing request for: 257, kalmunai\n",
      "Processing request for: 258, komsomolskiy\n",
      "Processing request for: 259, vestmannaeyjar\n",
      "Processing request for: 260, breves\n",
      "Processing request for: 261, port lincoln\n",
      "Processing request for: 262, phonhong\n",
      "Processing request for: 263, butaritari\n",
      "Processing request for: 264, saint anthony\n",
      "Processing request for: 265, labuhan\n",
      "Missing field/result... skipping.\n",
      "Missing field/result... skipping.\n",
      "Processing request for: 268, souillac\n",
      "Processing request for: 269, bom jesus\n",
      "Processing request for: 270, zabol\n",
      "Processing request for: 271, nantucket\n",
      "Processing request for: 272, sardinia\n",
      "Processing request for: 273, talavera de la reina\n",
      "Processing request for: 274, tubajon\n",
      "Processing request for: 275, lucea\n",
      "Processing request for: 276, alta floresta\n",
      "Processing request for: 277, hithadhoo\n",
      "Processing request for: 278, luganville\n",
      "Processing request for: 279, rensvik\n",
      "Processing request for: 280, gombong\n",
      "Processing request for: 281, severo-kurilsk\n",
      "Processing request for: 282, imeni poliny osipenko\n",
      "Processing request for: 283, aksaray\n",
      "Processing request for: 284, lappeenranta\n",
      "Processing request for: 285, touros\n",
      "Processing request for: 286, ostersund\n",
      "Processing request for: 287, krasnoturansk\n",
      "Processing request for: 288, eureka\n",
      "Processing request for: 289, talnakh\n",
      "Processing request for: 290, koungou\n",
      "Processing request for: 291, ostrovnoy\n",
      "Processing request for: 292, kruisfontein\n",
      "Processing request for: 293, cuamba\n",
      "Processing request for: 294, kantang\n",
      "Processing request for: 295, mahebourg\n",
      "Processing request for: 296, ulaanbaatar\n",
      "Processing request for: 297, san ignacio\n",
      "Processing request for: 298, houston\n",
      "Processing request for: 299, katsuura\n",
      "Processing request for: 300, nha trang\n",
      "Processing request for: 301, fallon\n",
      "Processing request for: 302, port-gentil\n",
      "Processing request for: 303, ancud\n",
      "Processing request for: 304, naze\n",
      "Processing request for: 305, ponta delgada\n",
      "Processing request for: 306, sur\n",
      "Processing request for: 307, evensk\n",
      "Processing request for: 308, batagay\n",
      "Processing request for: 309, kuytun\n",
      "Processing request for: 310, shikarpur\n",
      "Processing request for: 311, thompson\n",
      "Missing field/result... skipping.\n",
      "Missing field/result... skipping.\n",
      "Processing request for: 314, saint-joseph\n",
      "Processing request for: 315, aykhal\n",
      "Processing request for: 316, kokopo\n",
      "Processing request for: 317, port hardy\n",
      "Processing request for: 318, bambous virieux\n",
      "Processing request for: 319, kavaratti\n",
      "Processing request for: 320, ambilobe\n",
      "Processing request for: 321, dunedin\n",
      "Processing request for: 322, wanaka\n",
      "Processing request for: 323, jay\n",
      "Processing request for: 324, phek\n",
      "Processing request for: 325, ahipara\n",
      "Processing request for: 326, sao joao da barra\n",
      "Processing request for: 327, paita\n",
      "Processing request for: 328, blackwater\n",
      "Processing request for: 329, ilulissat\n",
      "Processing request for: 330, singaparna\n",
      "Processing request for: 331, bhan\n",
      "Processing request for: 332, norman wells\n",
      "Processing request for: 333, cururupu\n",
      "Processing request for: 334, vostok\n",
      "Processing request for: 335, yar-sale\n",
      "Processing request for: 336, prince rupert\n",
      "Processing request for: 337, liuzhou\n",
      "Processing request for: 338, fort nelson\n",
      "Processing request for: 339, vila velha\n",
      "Processing request for: 340, goba\n",
      "Processing request for: 341, xanlar\n",
      "Processing request for: 342, ozinki\n",
      "Processing request for: 343, vardo\n",
      "Processing request for: 344, ongandjera\n",
      "Processing request for: 345, kivsharivka\n",
      "Missing field/result... skipping.\n",
      "Processing request for: 347, meulaboh\n",
      "Processing request for: 348, port shepstone\n",
      "Processing request for: 349, panyutyne\n",
      "Processing request for: 350, san vicente de canete\n",
      "Processing request for: 351, oyem\n",
      "Missing field/result... skipping.\n",
      "Processing request for: 353, mumbwa\n",
      "Processing request for: 354, taywarah\n",
      "Processing request for: 355, koumra\n",
      "Processing request for: 356, bathsheba\n",
      "Processing request for: 357, teluknaga\n",
      "Processing request for: 358, palmer\n",
      "Processing request for: 359, bariri\n",
      "Processing request for: 360, licheng\n",
      "Processing request for: 361, nikolskoye\n",
      "Processing request for: 362, los llanos de aridane\n",
      "Processing request for: 363, aden\n",
      "Processing request for: 364, murashi\n",
      "Processing request for: 365, beaverlodge\n",
      "Processing request for: 366, yate\n",
      "Processing request for: 367, harsin\n",
      "Processing request for: 368, guadalupe y calvo\n",
      "Processing request for: 369, altay\n",
      "Processing request for: 370, lae\n",
      "Missing field/result... skipping.\n",
      "Processing request for: 372, sao lourenco\n",
      "Processing request for: 373, avarua\n",
      "Processing request for: 374, khalkhal\n",
      "Processing request for: 375, gizo\n",
      "Processing request for: 376, kapustin yar\n",
      "Processing request for: 377, ulaangom\n",
      "Processing request for: 378, newport\n",
      "Processing request for: 379, yerbogachen\n",
      "Processing request for: 380, muravlenko\n",
      "Processing request for: 381, fort payne\n",
      "Processing request for: 382, abu kamal\n",
      "Processing request for: 383, jumla\n",
      "Processing request for: 384, pangai\n",
      "Processing request for: 385, emet\n",
      "Processing request for: 386, huambo\n",
      "Processing request for: 387, hirara\n",
      "Processing request for: 388, ballina\n",
      "Processing request for: 389, linxia\n",
      "Processing request for: 390, portland\n",
      "Processing request for: 391, luderitz\n",
      "Processing request for: 392, jiuquan\n",
      "Processing request for: 393, tateyama\n",
      "Processing request for: 394, mackenzie\n",
      "Processing request for: 395, lasa\n",
      "Processing request for: 396, stonewall\n",
      "Missing field/result... skipping.\n",
      "Processing request for: 398, usinsk\n",
      "Processing request for: 399, lagoa\n",
      "Processing request for: 400, nizhniy baskunchak\n",
      "Processing request for: 401, moroto\n",
      "Processing request for: 402, havelock\n",
      "Processing request for: 403, wilmington\n",
      "Processing request for: 404, wahiawa\n",
      "Missing field/result... skipping.\n",
      "Processing request for: 406, kamenka\n",
      "Processing request for: 407, merauke\n",
      "Processing request for: 408, klaksvik\n",
      "Processing request for: 409, vinh\n",
      "Processing request for: 410, taft\n",
      "Processing request for: 411, dauriya\n",
      "Processing request for: 412, coahuayana\n",
      "Processing request for: 413, maracas\n",
      "Processing request for: 414, tver\n",
      "Processing request for: 415, durazno\n",
      "Missing field/result... skipping.\n",
      "Processing request for: 417, galesong\n",
      "Processing request for: 418, puerto baquerizo moreno\n",
      "Missing field/result... skipping.\n",
      "Processing request for: 420, qaqortoq\n",
      "Processing request for: 421, leh\n",
      "Processing request for: 422, richards bay\n",
      "Processing request for: 423, noyabrsk\n",
      "Processing request for: 424, atar\n",
      "Processing request for: 425, saldanha\n",
      "Missing field/result... skipping.\n",
      "Processing request for: 427, kodinsk\n",
      "Processing request for: 428, hailar\n",
      "Processing request for: 429, pevek\n",
      "Processing request for: 430, tessalit\n",
      "Processing request for: 431, christchurch\n",
      "Processing request for: 432, estelle\n",
      "Processing request for: 433, teguise\n",
      "Processing request for: 434, felipe carrillo puerto\n",
      "Processing request for: 435, awjilah\n",
      "Processing request for: 436, bismarck\n",
      "Missing field/result... skipping.\n"
     ]
    },
    {
     "name": "stdout",
     "output_type": "stream",
     "text": [
      "Processing request for: 438, tibiri\n",
      "Processing request for: 439, anjiang\n",
      "Processing request for: 440, cockburn town\n",
      "Processing request for: 441, vestmanna\n",
      "Processing request for: 442, moron\n",
      "Processing request for: 443, mae sai\n",
      "Missing field/result... skipping.\n",
      "Processing request for: 445, novobirilyussy\n",
      "Processing request for: 446, mogadishu\n",
      "Processing request for: 447, plavinas\n",
      "Processing request for: 448, arona\n",
      "Processing request for: 449, nandu\n",
      "Processing request for: 450, lithakia\n",
      "Processing request for: 451, massena\n",
      "Missing field/result... skipping.\n",
      "Processing request for: 453, salinopolis\n",
      "Processing request for: 454, wanning\n",
      "Processing request for: 455, oxapampa\n",
      "Processing request for: 456, seduva\n",
      "Missing field/result... skipping.\n",
      "Processing request for: 458, darab\n",
      "Processing request for: 459, mongo\n",
      "Processing request for: 460, gazojak\n",
      "Processing request for: 461, kahului\n",
      "Processing request for: 462, kiruna\n",
      "Processing request for: 463, college\n",
      "Processing request for: 464, tornio\n",
      "Processing request for: 465, sembe\n",
      "Processing request for: 466, sambava\n",
      "Processing request for: 467, karratha\n",
      "Processing request for: 468, northam\n",
      "Processing request for: 469, kushiro\n",
      "Missing field/result... skipping.\n",
      "Processing request for: 471, palatka\n",
      "Processing request for: 472, razole\n",
      "Processing request for: 473, geraldton\n",
      "Processing request for: 474, beisfjord\n",
      "Processing request for: 475, ajdabiya\n",
      "Processing request for: 476, sopelana\n",
      "Processing request for: 477, inta\n",
      "Processing request for: 478, mayo\n",
      "Processing request for: 479, jiayuguan\n",
      "Processing request for: 480, hohhot\n",
      "Processing request for: 481, faanui\n",
      "Processing request for: 482, koumac\n",
      "Processing request for: 483, yumaguzino\n",
      "Processing request for: 484, te anau\n",
      "Processing request for: 485, zheleznodorozhnyy\n",
      "Processing request for: 486, lakes entrance\n",
      "Processing request for: 487, ust-kan\n",
      "Processing request for: 488, mega\n",
      "Processing request for: 489, joao camara\n",
      "Processing request for: 490, ijuin\n",
      "Processing request for: 491, sitamarhi\n",
      "Missing field/result... skipping.\n",
      "Processing request for: 493, brokopondo\n",
      "Processing request for: 494, okato\n",
      "Processing request for: 495, gat\n",
      "Processing request for: 496, bonaventure\n",
      "Processing request for: 497, jurm\n",
      "Processing request for: 498, margate\n",
      "Processing request for: 499, isangel\n",
      "Processing request for: 500, zhigansk\n",
      "Processing request for: 501, vazhiny\n",
      "Processing request for: 502, gourcy\n",
      "Processing request for: 503, rognan\n",
      "Processing request for: 504, sovetskiy\n",
      "Processing request for: 505, nisia floresta\n",
      "Processing request for: 506, shelburne\n",
      "Processing request for: 507, severomuysk\n",
      "Processing request for: 508, betioky\n",
      "Processing request for: 509, sarahan\n",
      "Missing field/result... skipping.\n",
      "Processing request for: 511, buraydah\n",
      "Processing request for: 512, terney\n",
      "Processing request for: 513, palmerston\n",
      "Processing request for: 514, verkhnyaya inta\n",
      "Missing field/result... skipping.\n",
      "Processing request for: 516, zeya\n",
      "Processing request for: 517, vieques\n",
      "Processing request for: 518, kpandu\n",
      "Processing request for: 519, pozo colorado\n",
      "Processing request for: 520, port augusta\n",
      "Processing request for: 521, rovaniemi\n",
      "Missing field/result... skipping.\n",
      "Processing request for: 523, salalah\n",
      "Processing request for: 524, abnub\n",
      "Processing request for: 525, butembo\n",
      "Processing request for: 526, chacabuco\n",
      "Processing request for: 527, belyy yar\n",
      "Missing field/result... skipping.\n",
      "Processing request for: 529, mahanoro\n",
      "Processing request for: 530, coquimbo\n",
      "Processing request for: 531, talara\n",
      "Processing request for: 532, puerto carreno\n",
      "Processing request for: 533, aksarka\n",
      "Processing request for: 534, faranah\n",
      "Processing request for: 535, chapais\n",
      "Processing request for: 536, horta\n",
      "Processing request for: 537, wiang sa\n",
      "Processing request for: 538, natal\n",
      "Processing request for: 539, chabahar\n",
      "Processing request for: 540, honiara\n",
      "Processing request for: 541, seoul\n",
      "Processing request for: 542, fougeres\n",
      "Processing request for: 543, skelleftea\n",
      "Processing request for: 544, shimoda\n",
      "Processing request for: 545, karla\n",
      "Processing request for: 546, grand gaube\n",
      "Missing field/result... skipping.\n",
      "Processing request for: 548, port hedland\n",
      "Processing request for: 549, bonavista\n",
      "Processing request for: 550, dustlik\n",
      "Processing request for: 551, lugovoy\n",
      "Processing request for: 552, pangani\n",
      "Processing request for: 553, seymchan\n",
      "Processing request for: 554, mantua\n",
      "Processing request for: 555, udachnyy\n",
      "Processing request for: 556, svetlogorsk\n",
      "Processing request for: 557, cordele\n",
      "Processing request for: 558, strani\n",
      "Missing field/result... skipping.\n",
      "Processing request for: 560, kenai\n",
      "Processing request for: 561, puerto escondido\n",
      "Processing request for: 562, bogande\n",
      "Missing field/result... skipping.\n",
      "Processing request for: 564, grindavik\n",
      "Processing request for: 565, altamira\n",
      "Processing request for: 566, torbay\n",
      "Processing request for: 567, inhambane\n",
      "Missing field/result... skipping.\n",
      "Processing request for: 569, turukhansk\n",
      "Processing request for: 570, igarka\n",
      "Processing request for: 571, the valley\n",
      "Processing request for: 572, jiaocheng\n",
      "Processing request for: 573, coxim\n",
      "Processing request for: 574, nuuk\n",
      "Processing request for: 575, thinadhoo\n",
      "Missing field/result... skipping.\n",
      "Processing request for: 577, antsohihy\n",
      "Processing request for: 578, chagoda\n",
      "Processing request for: 579, mufumbwe\n",
      "Processing request for: 580, shihezi\n",
      "Processing request for: 581, paamiut\n",
      "Processing request for: 582, hobbs\n",
      "Processing request for: 583, columbus\n",
      "Processing request for: 584, batagay-alyta\n",
      "Processing request for: 585, kieta\n",
      "Processing request for: 586, valera\n",
      "Processing request for: 587, kaduqli\n",
      "Processing request for: 588, searcy\n",
      "Processing request for: 589, lompoc\n",
      "Processing request for: 590, mumford\n",
      "Processing request for: 591, omsukchan\n",
      "Processing request for: 592, sijunjung\n",
      "Processing request for: 593, eydhafushi\n",
      "Processing request for: 594, sola\n",
      "Processing request for: 595, barcelos\n",
      "Processing request for: 596, dukat\n"
     ]
    }
   ],
   "source": [
    "# Build a URL for the OWM API, include a units variable and your API Key \n",
    "url = \"http://api.openweathermap.org/data/2.5/weather?\"\n",
    "units = \"imperial\"\n",
    "query_url = f\"{url}appid={weather_api_key}&units={units}&q=\"\n",
    "\n",
    "# Create the variables needed for the data you are interested in\n",
    "cities = cities\n",
    "\n",
    "counter = 0\n",
    "temp = []\n",
    "lat = []\n",
    "lon = []\n",
    "hum = []\n",
    "cloud = []\n",
    "wind = []\n",
    "city_list = []\n",
    "date =[]\n",
    "country = []\n",
    "\n",
    "# Make a loop for each city you will be looking for, appened your empty list for the info you will gather\n",
    "# Make sure to include an expection for pulled cities that might not show up from CityPy to OWM\n",
    "\n",
    "for city in cities:\n",
    "    response = requests.get(query_url + city).json()  \n",
    "    counter += 1\n",
    "    \n",
    "    try:\n",
    "        city_list.append(city)\n",
    "        date.append(response['dt'])\n",
    "        country.append(response['sys']['country'])\n",
    "        temp.append(response['main']['temp'])\n",
    "        lat.append(response['coord']['lat'])\n",
    "        lon.append(response['coord']['lon'])\n",
    "        hum.append(response['main']['humidity'])\n",
    "        cloud.append(response['clouds']['all'])\n",
    "        wind.append(response['wind']['speed'])\n",
    "        print(f\"Processing request for: {counter}, {city}\")\n",
    "\n",
    "    except (KeyError):\n",
    "        city_list.remove(city)\n",
    "        print(\"Missing field/result... skipping.\")\n",
    "        pass"
   ]
  },
  {
   "cell_type": "code",
   "execution_count": 5,
   "metadata": {},
   "outputs": [
    {
     "name": "stdout",
     "output_type": "stream",
     "text": [
      "543 543 543 543 543 543 543 543 543\n"
     ]
    }
   ],
   "source": [
    "# Making sure all the columns have an even amount of data to avoid future errors\n",
    "print(len(city_list), len(date), len(country), len(temp), len(lat), len(lon), len(hum), len(cloud), len(wind))"
   ]
  },
  {
   "cell_type": "markdown",
   "metadata": {},
   "source": [
    "### Convert Raw Data to DataFrame\n",
    "* Export the city data into a .csv.\n",
    "* Display the DataFrame"
   ]
  },
  {
   "cell_type": "code",
   "execution_count": 6,
   "metadata": {},
   "outputs": [
    {
     "data": {
      "text/html": [
       "<div>\n",
       "<style scoped>\n",
       "    .dataframe tbody tr th:only-of-type {\n",
       "        vertical-align: middle;\n",
       "    }\n",
       "\n",
       "    .dataframe tbody tr th {\n",
       "        vertical-align: top;\n",
       "    }\n",
       "\n",
       "    .dataframe thead th {\n",
       "        text-align: right;\n",
       "    }\n",
       "</style>\n",
       "<table border=\"1\" class=\"dataframe\">\n",
       "  <thead>\n",
       "    <tr style=\"text-align: right;\">\n",
       "      <th></th>\n",
       "      <th>city</th>\n",
       "      <th>country</th>\n",
       "      <th>date</th>\n",
       "      <th>lat</th>\n",
       "      <th>lon</th>\n",
       "      <th>temp</th>\n",
       "      <th>hum</th>\n",
       "      <th>clouds</th>\n",
       "      <th>wind</th>\n",
       "    </tr>\n",
       "  </thead>\n",
       "  <tbody>\n",
       "    <tr>\n",
       "      <th>0</th>\n",
       "      <td>kodiak</td>\n",
       "      <td>US</td>\n",
       "      <td>1600307104</td>\n",
       "      <td>57.79</td>\n",
       "      <td>-152.41</td>\n",
       "      <td>53.60</td>\n",
       "      <td>81</td>\n",
       "      <td>90</td>\n",
       "      <td>11.41</td>\n",
       "    </tr>\n",
       "    <tr>\n",
       "      <th>1</th>\n",
       "      <td>east london</td>\n",
       "      <td>ZA</td>\n",
       "      <td>1600307104</td>\n",
       "      <td>-33.02</td>\n",
       "      <td>27.91</td>\n",
       "      <td>60.58</td>\n",
       "      <td>66</td>\n",
       "      <td>14</td>\n",
       "      <td>14.97</td>\n",
       "    </tr>\n",
       "    <tr>\n",
       "      <th>2</th>\n",
       "      <td>guthrie</td>\n",
       "      <td>US</td>\n",
       "      <td>1600306989</td>\n",
       "      <td>35.88</td>\n",
       "      <td>-97.43</td>\n",
       "      <td>74.19</td>\n",
       "      <td>64</td>\n",
       "      <td>1</td>\n",
       "      <td>4.70</td>\n",
       "    </tr>\n",
       "    <tr>\n",
       "      <th>3</th>\n",
       "      <td>albany</td>\n",
       "      <td>US</td>\n",
       "      <td>1600307030</td>\n",
       "      <td>42.60</td>\n",
       "      <td>-73.97</td>\n",
       "      <td>59.18</td>\n",
       "      <td>69</td>\n",
       "      <td>4</td>\n",
       "      <td>4.00</td>\n",
       "    </tr>\n",
       "    <tr>\n",
       "      <th>4</th>\n",
       "      <td>tuktoyaktuk</td>\n",
       "      <td>CA</td>\n",
       "      <td>1600307105</td>\n",
       "      <td>69.45</td>\n",
       "      <td>-133.04</td>\n",
       "      <td>44.60</td>\n",
       "      <td>81</td>\n",
       "      <td>90</td>\n",
       "      <td>9.17</td>\n",
       "    </tr>\n",
       "  </tbody>\n",
       "</table>\n",
       "</div>"
      ],
      "text/plain": [
       "          city country        date    lat     lon   temp  hum  clouds   wind\n",
       "0       kodiak      US  1600307104  57.79 -152.41  53.60   81      90  11.41\n",
       "1  east london      ZA  1600307104 -33.02   27.91  60.58   66      14  14.97\n",
       "2      guthrie      US  1600306989  35.88  -97.43  74.19   64       1   4.70\n",
       "3       albany      US  1600307030  42.60  -73.97  59.18   69       4   4.00\n",
       "4  tuktoyaktuk      CA  1600307105  69.45 -133.04  44.60   81      90   9.17"
      ]
     },
     "execution_count": 6,
     "metadata": {},
     "output_type": "execute_result"
    }
   ],
   "source": [
    "# New DataFrame that will hold all the requests from the API \n",
    "weather_dict = {\n",
    "    \"city\": city_list,\n",
    "    \"country\":country,\n",
    "    \"date\": date,\n",
    "    \"lat\": lat,\n",
    "    \"lon\": lon,\n",
    "    \"temp\": temp,\n",
    "    \"hum\": hum,\n",
    "    \"clouds\": cloud,\n",
    "    \"wind\": wind\n",
    "    \n",
    "}\n",
    "city_data = pd.DataFrame(weather_dict)\n",
    "city_data.head()"
   ]
  },
  {
   "cell_type": "code",
   "execution_count": 7,
   "metadata": {},
   "outputs": [],
   "source": [
    "# Output to a CSV file so you don't have to make multiple requests from the API \n",
    "city_data.to_csv(\"../output_data/city_data.csv\")"
   ]
  },
  {
   "cell_type": "code",
   "execution_count": 8,
   "metadata": {},
   "outputs": [
    {
     "data": {
      "text/html": [
       "<div>\n",
       "<style scoped>\n",
       "    .dataframe tbody tr th:only-of-type {\n",
       "        vertical-align: middle;\n",
       "    }\n",
       "\n",
       "    .dataframe tbody tr th {\n",
       "        vertical-align: top;\n",
       "    }\n",
       "\n",
       "    .dataframe thead th {\n",
       "        text-align: right;\n",
       "    }\n",
       "</style>\n",
       "<table border=\"1\" class=\"dataframe\">\n",
       "  <thead>\n",
       "    <tr style=\"text-align: right;\">\n",
       "      <th></th>\n",
       "      <th>city</th>\n",
       "      <th>country</th>\n",
       "      <th>date</th>\n",
       "      <th>lat</th>\n",
       "      <th>lon</th>\n",
       "      <th>temp</th>\n",
       "      <th>hum</th>\n",
       "      <th>clouds</th>\n",
       "      <th>wind</th>\n",
       "    </tr>\n",
       "  </thead>\n",
       "  <tbody>\n",
       "    <tr>\n",
       "      <th>0</th>\n",
       "      <td>kodiak</td>\n",
       "      <td>US</td>\n",
       "      <td>2020-09-17 01:45:04</td>\n",
       "      <td>57.79</td>\n",
       "      <td>-152.41</td>\n",
       "      <td>53.60</td>\n",
       "      <td>81</td>\n",
       "      <td>90</td>\n",
       "      <td>11.41</td>\n",
       "    </tr>\n",
       "    <tr>\n",
       "      <th>1</th>\n",
       "      <td>east london</td>\n",
       "      <td>ZA</td>\n",
       "      <td>2020-09-17 01:45:04</td>\n",
       "      <td>-33.02</td>\n",
       "      <td>27.91</td>\n",
       "      <td>60.58</td>\n",
       "      <td>66</td>\n",
       "      <td>14</td>\n",
       "      <td>14.97</td>\n",
       "    </tr>\n",
       "    <tr>\n",
       "      <th>2</th>\n",
       "      <td>guthrie</td>\n",
       "      <td>US</td>\n",
       "      <td>2020-09-17 01:43:09</td>\n",
       "      <td>35.88</td>\n",
       "      <td>-97.43</td>\n",
       "      <td>74.19</td>\n",
       "      <td>64</td>\n",
       "      <td>1</td>\n",
       "      <td>4.70</td>\n",
       "    </tr>\n",
       "    <tr>\n",
       "      <th>3</th>\n",
       "      <td>albany</td>\n",
       "      <td>US</td>\n",
       "      <td>2020-09-17 01:43:50</td>\n",
       "      <td>42.60</td>\n",
       "      <td>-73.97</td>\n",
       "      <td>59.18</td>\n",
       "      <td>69</td>\n",
       "      <td>4</td>\n",
       "      <td>4.00</td>\n",
       "    </tr>\n",
       "    <tr>\n",
       "      <th>4</th>\n",
       "      <td>tuktoyaktuk</td>\n",
       "      <td>CA</td>\n",
       "      <td>2020-09-17 01:45:05</td>\n",
       "      <td>69.45</td>\n",
       "      <td>-133.04</td>\n",
       "      <td>44.60</td>\n",
       "      <td>81</td>\n",
       "      <td>90</td>\n",
       "      <td>9.17</td>\n",
       "    </tr>\n",
       "  </tbody>\n",
       "</table>\n",
       "</div>"
      ],
      "text/plain": [
       "          city country                date    lat     lon   temp  hum  clouds  \\\n",
       "0       kodiak      US 2020-09-17 01:45:04  57.79 -152.41  53.60   81      90   \n",
       "1  east london      ZA 2020-09-17 01:45:04 -33.02   27.91  60.58   66      14   \n",
       "2      guthrie      US 2020-09-17 01:43:09  35.88  -97.43  74.19   64       1   \n",
       "3       albany      US 2020-09-17 01:43:50  42.60  -73.97  59.18   69       4   \n",
       "4  tuktoyaktuk      CA 2020-09-17 01:45:05  69.45 -133.04  44.60   81      90   \n",
       "\n",
       "    wind  \n",
       "0  11.41  \n",
       "1  14.97  \n",
       "2   4.70  \n",
       "3   4.00  \n",
       "4   9.17  "
      ]
     },
     "execution_count": 8,
     "metadata": {},
     "output_type": "execute_result"
    }
   ],
   "source": [
    "# CSV file ready to be read and random column deleted \n",
    "city_df = pd.read_csv(\"../output_data/city_data.csv\")\n",
    "city_df.keys()\n",
    "del city_df['Unnamed: 0']\n",
    "city_df[\"date\"] = pd.to_datetime(city_df['date'], unit='s')\n",
    "city_df.head()"
   ]
  },
  {
   "cell_type": "markdown",
   "metadata": {},
   "source": [
    "### Plotting the Data\n",
    "* Use proper labeling of the plots using plot titles (including date of analysis) and axes labels.\n",
    "* Save the plotted figures as .pngs."
   ]
  },
  {
   "cell_type": "markdown",
   "metadata": {},
   "source": [
    "#### Latitude vs. Temperature Plot"
   ]
  },
  {
   "cell_type": "code",
   "execution_count": 9,
   "metadata": {
    "scrolled": true
   },
   "outputs": [
    {
     "data": {
      "image/png": "[encoded data removed]",
      "text/plain": [
       "<Figure size 432x288 with 1 Axes>"
      ]
     },
     "metadata": {
      "needs_background": "light"
     },
     "output_type": "display_data"
    }
   ],
   "source": [
    "# Scatter Plots \n",
    "date = city_df.iloc[3,2]\n",
    "\n",
    "plt.scatter(city_df[\"lat\"], city_df[\"temp\"], marker=\"o\")\n",
    "\n",
    "# Incorporate the other graph properties \n",
    "plt.title(f'Temperature vs. Latitude in World Cities' + \" \" + str(date) )\n",
    "plt.ylabel(\"Temperature (Far)\")\n",
    "plt.xlabel(\"Latitude\")\n",
    "plt.grid(True)\n",
    "\n",
    "# Save the figure\n",
    "plt.savefig(\"Fig1: Lat vs. Temp.png\")\n",
    "\n",
    "# Show plot\n",
    "plt.show()"
   ]
  },
  {
   "cell_type": "markdown",
   "metadata": {},
   "source": [
    "#### Latitude vs. Humidity Plot"
   ]
  },
  {
   "cell_type": "code",
   "execution_count": 10,
   "metadata": {},
   "outputs": [
    {
     "data": {
      "image/png": "[encoded data removed]",
      "text/plain": [
       "<Figure size 432x288 with 1 Axes>"
      ]
     },
     "metadata": {
      "needs_background": "light"
     },
     "output_type": "display_data"
    }
   ],
   "source": [
    "plt.scatter(city_df[\"lat\"], city_df[\"hum\"], marker=\"o\")\n",
    "\n",
    "# Humidity Plot \n",
    "plt.title(\"Humidity vs. Latitude in World Cities\" + \" \" + str(date))\n",
    "plt.ylabel(\"Humidity\")\n",
    "plt.xlabel(\"Latitude\")\n",
    "plt.grid(True)\n",
    "\n",
    "# Save the figure\n",
    "plt.savefig(\"Fig2: Lat vs. Hum.png\")\n",
    "\n",
    "# Show plot\n",
    "plt.show()"
   ]
  },
  {
   "cell_type": "markdown",
   "metadata": {},
   "source": [
    "#### Latitude vs. Cloudiness Plot"
   ]
  },
  {
   "cell_type": "code",
   "execution_count": 11,
   "metadata": {},
   "outputs": [
    {
     "data": {
      "image/png": "[encoded data removed]",
      "text/plain": [
       "<Figure size 432x288 with 1 Axes>"
      ]
     },
     "metadata": {
      "needs_background": "light"
     },
     "output_type": "display_data"
    }
   ],
   "source": [
    "plt.scatter(city_df[\"lat\"], city_df[\"clouds\"], marker=\"o\")\n",
    "\n",
    "# Cloudiness Scatter Plot \n",
    "plt.title(\"Cloudiness vs. Latitude in World Cities\" +  \" \" + str(date))\n",
    "plt.ylabel(\"Cloudiness\")\n",
    "plt.xlabel(\"Latitude\")\n",
    "plt.grid(True)\n",
    "\n",
    "# Save the figure\n",
    "plt.savefig(\"Fig3: Lat vs. Clouds.png\")\n",
    "\n",
    "# Show plot\n",
    "plt.show()"
   ]
  },
  {
   "cell_type": "markdown",
   "metadata": {},
   "source": [
    "#### Latitude vs. Wind Speed Plot"
   ]
  },
  {
   "cell_type": "code",
   "execution_count": 12,
   "metadata": {},
   "outputs": [
    {
     "data": {
      "image/png": "[encoded data removed]",
      "text/plain": [
       "<Figure size 432x288 with 1 Axes>"
      ]
     },
     "metadata": {
      "needs_background": "light"
     },
     "output_type": "display_data"
    }
   ],
   "source": [
    "plt.scatter(city_df[\"lat\"], city_df[\"wind\"], marker=\"o\")\n",
    "\n",
    "# Wind speed scatter plot \n",
    "plt.title(\"Wind speed vs. Latitude in World Cities\" +  \" \" + str(date))\n",
    "plt.ylabel(\"Wind Speed\")\n",
    "plt.xlabel(\"Latitude\")\n",
    "plt.grid(True)\n",
    "\n",
    "# Save the figure\n",
    "plt.savefig(\"Fig4: Lat vs. Wind.png\")\n",
    "\n",
    "# Show plot\n",
    "plt.show()"
   ]
  },
  {
   "cell_type": "markdown",
   "metadata": {},
   "source": [
    "## Linear Regression"
   ]
  },
  {
   "cell_type": "code",
   "execution_count": 13,
   "metadata": {},
   "outputs": [],
   "source": [
    "# OPTIONAL: Create a function to create Linear Regression plots\n",
    "def regression (x_axis, y_axis, title, xlabel, ylabel):\n",
    "\n",
    "    (slope, intercept, rvalue, pvalue, stderr) = linregress(x_axis, y_axis)\n",
    "    regress_values = x_axis * slope + intercept\n",
    "    line_eq = \"y = \" + str(round(slope,2)) + \"x + \" + str(round(intercept,2))\n",
    "\n",
    "    plt.scatter(x_axis,y_axis)\n",
    "    plt.plot(x_axis,regress_values,\"r-\")\n",
    "    \n",
    "    plt.title(title)\n",
    "    plt.xlabel(xlabel)\n",
    "    plt.ylabel(ylabel)\n",
    "    \n",
    "    plt.tight_layout()\n",
    "    plt.show()\n",
    "    \n",
    "    print(f\"The r-squared is: {rvalue**2}\")\n",
    "\n",
    "    return "
   ]
  },
  {
   "cell_type": "code",
   "execution_count": 14,
   "metadata": {},
   "outputs": [
    {
     "data": {
      "text/html": [
       "<div>\n",
       "<style scoped>\n",
       "    .dataframe tbody tr th:only-of-type {\n",
       "        vertical-align: middle;\n",
       "    }\n",
       "\n",
       "    .dataframe tbody tr th {\n",
       "        vertical-align: top;\n",
       "    }\n",
       "\n",
       "    .dataframe thead th {\n",
       "        text-align: right;\n",
       "    }\n",
       "</style>\n",
       "<table border=\"1\" class=\"dataframe\">\n",
       "  <thead>\n",
       "    <tr style=\"text-align: right;\">\n",
       "      <th></th>\n",
       "      <th>city</th>\n",
       "      <th>country</th>\n",
       "      <th>date</th>\n",
       "      <th>lat</th>\n",
       "      <th>lon</th>\n",
       "      <th>temp</th>\n",
       "      <th>hum</th>\n",
       "      <th>clouds</th>\n",
       "      <th>wind</th>\n",
       "    </tr>\n",
       "  </thead>\n",
       "  <tbody>\n",
       "    <tr>\n",
       "      <th>0</th>\n",
       "      <td>kodiak</td>\n",
       "      <td>US</td>\n",
       "      <td>2020-09-17 01:45:04</td>\n",
       "      <td>57.79</td>\n",
       "      <td>-152.41</td>\n",
       "      <td>53.60</td>\n",
       "      <td>81</td>\n",
       "      <td>90</td>\n",
       "      <td>11.41</td>\n",
       "    </tr>\n",
       "    <tr>\n",
       "      <th>2</th>\n",
       "      <td>guthrie</td>\n",
       "      <td>US</td>\n",
       "      <td>2020-09-17 01:43:09</td>\n",
       "      <td>35.88</td>\n",
       "      <td>-97.43</td>\n",
       "      <td>74.19</td>\n",
       "      <td>64</td>\n",
       "      <td>1</td>\n",
       "      <td>4.70</td>\n",
       "    </tr>\n",
       "    <tr>\n",
       "      <th>3</th>\n",
       "      <td>albany</td>\n",
       "      <td>US</td>\n",
       "      <td>2020-09-17 01:43:50</td>\n",
       "      <td>42.60</td>\n",
       "      <td>-73.97</td>\n",
       "      <td>59.18</td>\n",
       "      <td>69</td>\n",
       "      <td>4</td>\n",
       "      <td>4.00</td>\n",
       "    </tr>\n",
       "    <tr>\n",
       "      <th>4</th>\n",
       "      <td>tuktoyaktuk</td>\n",
       "      <td>CA</td>\n",
       "      <td>2020-09-17 01:45:05</td>\n",
       "      <td>69.45</td>\n",
       "      <td>-133.04</td>\n",
       "      <td>44.60</td>\n",
       "      <td>81</td>\n",
       "      <td>90</td>\n",
       "      <td>9.17</td>\n",
       "    </tr>\n",
       "    <tr>\n",
       "      <th>6</th>\n",
       "      <td>cagliliog</td>\n",
       "      <td>PH</td>\n",
       "      <td>2020-09-17 01:45:05</td>\n",
       "      <td>13.90</td>\n",
       "      <td>123.29</td>\n",
       "      <td>79.20</td>\n",
       "      <td>87</td>\n",
       "      <td>100</td>\n",
       "      <td>7.99</td>\n",
       "    </tr>\n",
       "    <tr>\n",
       "      <th>...</th>\n",
       "      <td>...</td>\n",
       "      <td>...</td>\n",
       "      <td>...</td>\n",
       "      <td>...</td>\n",
       "      <td>...</td>\n",
       "      <td>...</td>\n",
       "      <td>...</td>\n",
       "      <td>...</td>\n",
       "      <td>...</td>\n",
       "    </tr>\n",
       "    <tr>\n",
       "      <th>536</th>\n",
       "      <td>mumford</td>\n",
       "      <td>GH</td>\n",
       "      <td>2020-09-17 01:46:30</td>\n",
       "      <td>5.26</td>\n",
       "      <td>-0.76</td>\n",
       "      <td>74.71</td>\n",
       "      <td>90</td>\n",
       "      <td>27</td>\n",
       "      <td>13.13</td>\n",
       "    </tr>\n",
       "    <tr>\n",
       "      <th>537</th>\n",
       "      <td>omsukchan</td>\n",
       "      <td>RU</td>\n",
       "      <td>2020-09-17 01:46:30</td>\n",
       "      <td>62.53</td>\n",
       "      <td>155.80</td>\n",
       "      <td>41.13</td>\n",
       "      <td>68</td>\n",
       "      <td>99</td>\n",
       "      <td>7.99</td>\n",
       "    </tr>\n",
       "    <tr>\n",
       "      <th>539</th>\n",
       "      <td>eydhafushi</td>\n",
       "      <td>MV</td>\n",
       "      <td>2020-09-17 01:46:31</td>\n",
       "      <td>5.10</td>\n",
       "      <td>73.07</td>\n",
       "      <td>82.11</td>\n",
       "      <td>74</td>\n",
       "      <td>96</td>\n",
       "      <td>9.51</td>\n",
       "    </tr>\n",
       "    <tr>\n",
       "      <th>541</th>\n",
       "      <td>barcelos</td>\n",
       "      <td>PT</td>\n",
       "      <td>2020-09-17 01:46:31</td>\n",
       "      <td>41.54</td>\n",
       "      <td>-8.62</td>\n",
       "      <td>63.21</td>\n",
       "      <td>88</td>\n",
       "      <td>97</td>\n",
       "      <td>4.70</td>\n",
       "    </tr>\n",
       "    <tr>\n",
       "      <th>542</th>\n",
       "      <td>dukat</td>\n",
       "      <td>RU</td>\n",
       "      <td>2020-09-17 01:46:31</td>\n",
       "      <td>62.55</td>\n",
       "      <td>155.55</td>\n",
       "      <td>39.00</td>\n",
       "      <td>73</td>\n",
       "      <td>92</td>\n",
       "      <td>7.70</td>\n",
       "    </tr>\n",
       "  </tbody>\n",
       "</table>\n",
       "<p>372 rows × 9 columns</p>\n",
       "</div>"
      ],
      "text/plain": [
       "            city country                date    lat     lon   temp  hum  \\\n",
       "0         kodiak      US 2020-09-17 01:45:04  57.79 -152.41  53.60   81   \n",
       "2        guthrie      US 2020-09-17 01:43:09  35.88  -97.43  74.19   64   \n",
       "3         albany      US 2020-09-17 01:43:50  42.60  -73.97  59.18   69   \n",
       "4    tuktoyaktuk      CA 2020-09-17 01:45:05  69.45 -133.04  44.60   81   \n",
       "6      cagliliog      PH 2020-09-17 01:45:05  13.90  123.29  79.20   87   \n",
       "..           ...     ...                 ...    ...     ...    ...  ...   \n",
       "536      mumford      GH 2020-09-17 01:46:30   5.26   -0.76  74.71   90   \n",
       "537    omsukchan      RU 2020-09-17 01:46:30  62.53  155.80  41.13   68   \n",
       "539   eydhafushi      MV 2020-09-17 01:46:31   5.10   73.07  82.11   74   \n",
       "541     barcelos      PT 2020-09-17 01:46:31  41.54   -8.62  63.21   88   \n",
       "542        dukat      RU 2020-09-17 01:46:31  62.55  155.55  39.00   73   \n",
       "\n",
       "     clouds   wind  \n",
       "0        90  11.41  \n",
       "2         1   4.70  \n",
       "3         4   4.00  \n",
       "4        90   9.17  \n",
       "6       100   7.99  \n",
       "..      ...    ...  \n",
       "536      27  13.13  \n",
       "537      99   7.99  \n",
       "539      96   9.51  \n",
       "541      97   4.70  \n",
       "542      92   7.70  \n",
       "\n",
       "[372 rows x 9 columns]"
      ]
     },
     "execution_count": 14,
     "metadata": {},
     "output_type": "execute_result"
    }
   ],
   "source": [
    "# Create Northern and Southern Hemisphere DataFrames\n",
    "north_df = city_df.loc[city_df[\"lat\"] >=0]\n",
    "north_df"
   ]
  },
  {
   "cell_type": "code",
   "execution_count": 15,
   "metadata": {},
   "outputs": [
    {
     "data": {
      "text/html": [
       "<div>\n",
       "<style scoped>\n",
       "    .dataframe tbody tr th:only-of-type {\n",
       "        vertical-align: middle;\n",
       "    }\n",
       "\n",
       "    .dataframe tbody tr th {\n",
       "        vertical-align: top;\n",
       "    }\n",
       "\n",
       "    .dataframe thead th {\n",
       "        text-align: right;\n",
       "    }\n",
       "</style>\n",
       "<table border=\"1\" class=\"dataframe\">\n",
       "  <thead>\n",
       "    <tr style=\"text-align: right;\">\n",
       "      <th></th>\n",
       "      <th>city</th>\n",
       "      <th>country</th>\n",
       "      <th>date</th>\n",
       "      <th>lat</th>\n",
       "      <th>lon</th>\n",
       "      <th>temp</th>\n",
       "      <th>hum</th>\n",
       "      <th>clouds</th>\n",
       "      <th>wind</th>\n",
       "    </tr>\n",
       "  </thead>\n",
       "  <tbody>\n",
       "    <tr>\n",
       "      <th>1</th>\n",
       "      <td>east london</td>\n",
       "      <td>ZA</td>\n",
       "      <td>2020-09-17 01:45:04</td>\n",
       "      <td>-33.02</td>\n",
       "      <td>27.91</td>\n",
       "      <td>60.58</td>\n",
       "      <td>66</td>\n",
       "      <td>14</td>\n",
       "      <td>14.97</td>\n",
       "    </tr>\n",
       "    <tr>\n",
       "      <th>5</th>\n",
       "      <td>puerto ayora</td>\n",
       "      <td>EC</td>\n",
       "      <td>2020-09-17 01:45:05</td>\n",
       "      <td>-0.74</td>\n",
       "      <td>-90.35</td>\n",
       "      <td>66.00</td>\n",
       "      <td>92</td>\n",
       "      <td>79</td>\n",
       "      <td>7.00</td>\n",
       "    </tr>\n",
       "    <tr>\n",
       "      <th>11</th>\n",
       "      <td>ushuaia</td>\n",
       "      <td>AR</td>\n",
       "      <td>2020-09-17 01:45:06</td>\n",
       "      <td>-54.80</td>\n",
       "      <td>-68.30</td>\n",
       "      <td>39.20</td>\n",
       "      <td>64</td>\n",
       "      <td>20</td>\n",
       "      <td>20.80</td>\n",
       "    </tr>\n",
       "    <tr>\n",
       "      <th>15</th>\n",
       "      <td>vaini</td>\n",
       "      <td>TO</td>\n",
       "      <td>2020-09-17 01:45:07</td>\n",
       "      <td>-21.20</td>\n",
       "      <td>-175.20</td>\n",
       "      <td>75.20</td>\n",
       "      <td>69</td>\n",
       "      <td>40</td>\n",
       "      <td>14.99</td>\n",
       "    </tr>\n",
       "    <tr>\n",
       "      <th>16</th>\n",
       "      <td>mataura</td>\n",
       "      <td>NZ</td>\n",
       "      <td>2020-09-17 01:45:07</td>\n",
       "      <td>-46.19</td>\n",
       "      <td>168.86</td>\n",
       "      <td>46.00</td>\n",
       "      <td>89</td>\n",
       "      <td>100</td>\n",
       "      <td>18.01</td>\n",
       "    </tr>\n",
       "    <tr>\n",
       "      <th>...</th>\n",
       "      <td>...</td>\n",
       "      <td>...</td>\n",
       "      <td>...</td>\n",
       "      <td>...</td>\n",
       "      <td>...</td>\n",
       "      <td>...</td>\n",
       "      <td>...</td>\n",
       "      <td>...</td>\n",
       "      <td>...</td>\n",
       "    </tr>\n",
       "    <tr>\n",
       "      <th>523</th>\n",
       "      <td>antsohihy</td>\n",
       "      <td>MG</td>\n",
       "      <td>2020-09-17 01:46:28</td>\n",
       "      <td>-14.88</td>\n",
       "      <td>47.99</td>\n",
       "      <td>62.47</td>\n",
       "      <td>82</td>\n",
       "      <td>3</td>\n",
       "      <td>3.94</td>\n",
       "    </tr>\n",
       "    <tr>\n",
       "      <th>525</th>\n",
       "      <td>mufumbwe</td>\n",
       "      <td>ZM</td>\n",
       "      <td>2020-09-17 01:46:29</td>\n",
       "      <td>-13.68</td>\n",
       "      <td>24.80</td>\n",
       "      <td>63.55</td>\n",
       "      <td>52</td>\n",
       "      <td>0</td>\n",
       "      <td>3.76</td>\n",
       "    </tr>\n",
       "    <tr>\n",
       "      <th>531</th>\n",
       "      <td>kieta</td>\n",
       "      <td>PG</td>\n",
       "      <td>2020-09-17 01:46:30</td>\n",
       "      <td>-6.22</td>\n",
       "      <td>155.63</td>\n",
       "      <td>86.76</td>\n",
       "      <td>65</td>\n",
       "      <td>74</td>\n",
       "      <td>7.81</td>\n",
       "    </tr>\n",
       "    <tr>\n",
       "      <th>538</th>\n",
       "      <td>sijunjung</td>\n",
       "      <td>ID</td>\n",
       "      <td>2020-09-17 01:46:31</td>\n",
       "      <td>-0.69</td>\n",
       "      <td>100.95</td>\n",
       "      <td>82.67</td>\n",
       "      <td>63</td>\n",
       "      <td>9</td>\n",
       "      <td>1.25</td>\n",
       "    </tr>\n",
       "    <tr>\n",
       "      <th>540</th>\n",
       "      <td>sola</td>\n",
       "      <td>VU</td>\n",
       "      <td>2020-09-17 01:46:31</td>\n",
       "      <td>-13.88</td>\n",
       "      <td>167.55</td>\n",
       "      <td>79.63</td>\n",
       "      <td>78</td>\n",
       "      <td>10</td>\n",
       "      <td>22.91</td>\n",
       "    </tr>\n",
       "  </tbody>\n",
       "</table>\n",
       "<p>171 rows × 9 columns</p>\n",
       "</div>"
      ],
      "text/plain": [
       "             city country                date    lat     lon   temp  hum  \\\n",
       "1     east london      ZA 2020-09-17 01:45:04 -33.02   27.91  60.58   66   \n",
       "5    puerto ayora      EC 2020-09-17 01:45:05  -0.74  -90.35  66.00   92   \n",
       "11        ushuaia      AR 2020-09-17 01:45:06 -54.80  -68.30  39.20   64   \n",
       "15          vaini      TO 2020-09-17 01:45:07 -21.20 -175.20  75.20   69   \n",
       "16        mataura      NZ 2020-09-17 01:45:07 -46.19  168.86  46.00   89   \n",
       "..            ...     ...                 ...    ...     ...    ...  ...   \n",
       "523     antsohihy      MG 2020-09-17 01:46:28 -14.88   47.99  62.47   82   \n",
       "525      mufumbwe      ZM 2020-09-17 01:46:29 -13.68   24.80  63.55   52   \n",
       "531         kieta      PG 2020-09-17 01:46:30  -6.22  155.63  86.76   65   \n",
       "538     sijunjung      ID 2020-09-17 01:46:31  -0.69  100.95  82.67   63   \n",
       "540          sola      VU 2020-09-17 01:46:31 -13.88  167.55  79.63   78   \n",
       "\n",
       "     clouds   wind  \n",
       "1        14  14.97  \n",
       "5        79   7.00  \n",
       "11       20  20.80  \n",
       "15       40  14.99  \n",
       "16      100  18.01  \n",
       "..      ...    ...  \n",
       "523       3   3.94  \n",
       "525       0   3.76  \n",
       "531      74   7.81  \n",
       "538       9   1.25  \n",
       "540      10  22.91  \n",
       "\n",
       "[171 rows x 9 columns]"
      ]
     },
     "execution_count": 15,
     "metadata": {},
     "output_type": "execute_result"
    }
   ],
   "source": [
    "south_df = city_df.loc[city_df[\"lat\"] <=0]\n",
    "south_df"
   ]
  },
  {
   "cell_type": "markdown",
   "metadata": {},
   "source": [
    "####  Northern Hemisphere - Max Temp vs. Latitude Linear Regression"
   ]
  },
  {
   "cell_type": "code",
   "execution_count": 16,
   "metadata": {},
   "outputs": [
    {
     "data": {
      "image/png": "[encoded data removed]",
      "text/plain": [
       "<Figure size 432x288 with 1 Axes>"
      ]
     },
     "metadata": {
      "needs_background": "light"
     },
     "output_type": "display_data"
    },
    {
     "name": "stdout",
     "output_type": "stream",
     "text": [
      "The r-squared is: 0.6587251944497873\n"
     ]
    }
   ],
   "source": [
    "regression(north_df[\"lat\"], north_df[\"temp\"],\"Temperature vs. Latitude in the Northern Hemisphere\",\"Latitude\",\"Temperature (Far)\")\n"
   ]
  },
  {
   "cell_type": "markdown",
   "metadata": {},
   "source": [
    "####  Southern Hemisphere - Max Temp vs. Latitude Linear Regression"
   ]
  },
  {
   "cell_type": "code",
   "execution_count": 21,
   "metadata": {},
   "outputs": [
    {
     "data": {
      "image/png": "[encoded data removed]",
      "text/plain": [
       "<Figure size 432x288 with 1 Axes>"
      ]
     },
     "metadata": {
      "needs_background": "light"
     },
     "output_type": "display_data"
    },
    {
     "name": "stdout",
     "output_type": "stream",
     "text": [
      "The r-squared is: 0.5125764994459321\n"
     ]
    },
    {
     "data": {
      "text/plain": [
       "<Figure size 432x288 with 0 Axes>"
      ]
     },
     "metadata": {},
     "output_type": "display_data"
    }
   ],
   "source": [
    "regression(south_df[\"lat\"], south_df[\"temp\"],\"Temperature vs. Latitude in the Southern Hemisphere\",\"Latitude\",\"Temperature (Celsius)\")\n",
    "plt.savefig(\"tempsouth.png\")\n"
   ]
  },
  {
   "cell_type": "markdown",
   "metadata": {},
   "source": [
    "####  Northern Hemisphere - Humidity (%) vs. Latitude Linear Regression"
   ]
  },
  {
   "cell_type": "code",
   "execution_count": 22,
   "metadata": {},
   "outputs": [
    {
     "data": {
      "image/png": "[encoded data removed]",
      "text/plain": [
       "<Figure size 432x288 with 1 Axes>"
      ]
     },
     "metadata": {
      "needs_background": "light"
     },
     "output_type": "display_data"
    },
    {
     "name": "stdout",
     "output_type": "stream",
     "text": [
      "The r-squared is: 0.00019088427973995995\n"
     ]
    }
   ],
   "source": [
    "regression(north_df[\"lat\"], north_df[\"hum\"],\"Humidity vs. Latitude in the Northern Hempisphere\", \"Latitude\", \"Humidity\")"
   ]
  },
  {
   "cell_type": "markdown",
   "metadata": {},
   "source": [
    "####  Southern Hemisphere - Humidity (%) vs. Latitude Linear Regression"
   ]
  },
  {
   "cell_type": "code",
   "execution_count": 23,
   "metadata": {},
   "outputs": [
    {
     "data": {
      "image/png": "[encoded data removed]",
      "text/plain": [
       "<Figure size 432x288 with 1 Axes>"
      ]
     },
     "metadata": {
      "needs_background": "light"
     },
     "output_type": "display_data"
    },
    {
     "name": "stdout",
     "output_type": "stream",
     "text": [
      "The r-squared is: 6.0812968695766085e-06\n"
     ]
    }
   ],
   "source": [
    "regression(south_df[\"lat\"], south_df[\"hum\"],\"Humidity vs. Latitude in the Southern Hempisphere\", \"Latitude\", \"Humidity\")"
   ]
  },
  {
   "cell_type": "markdown",
   "metadata": {},
   "source": [
    "####  Northern Hemisphere - Cloudiness (%) vs. Latitude Linear Regression"
   ]
  },
  {
   "cell_type": "code",
   "execution_count": 24,
   "metadata": {},
   "outputs": [
    {
     "data": {
      "image/png": "[encoded data removed]",
      "text/plain": [
       "<Figure size 432x288 with 1 Axes>"
      ]
     },
     "metadata": {
      "needs_background": "light"
     },
     "output_type": "display_data"
    },
    {
     "name": "stdout",
     "output_type": "stream",
     "text": [
      "The r-squared is: 0.009815232719056795\n"
     ]
    }
   ],
   "source": [
    "regression(north_df[\"lat\"], north_df[\"clouds\"],\"Cloudiness vs. Latitude in the Northern Hempisphere\", \"Latitude\", \"Cloudiness\")"
   ]
  },
  {
   "cell_type": "markdown",
   "metadata": {},
   "source": [
    "####  Southern Hemisphere - Cloudiness (%) vs. Latitude Linear Regression"
   ]
  },
  {
   "cell_type": "code",
   "execution_count": 25,
   "metadata": {},
   "outputs": [
    {
     "data": {
      "image/png": "[encoded data removed]",
      "text/plain": [
       "<Figure size 432x288 with 1 Axes>"
      ]
     },
     "metadata": {
      "needs_background": "light"
     },
     "output_type": "display_data"
    },
    {
     "name": "stdout",
     "output_type": "stream",
     "text": [
      "The r-squared is: 6.0812968695766085e-06\n"
     ]
    }
   ],
   "source": [
    "regression(south_df[\"lat\"], south_df[\"hum\"],\"Humidity vs. Latitude in the Southern Hempisphere\", \"Latitude\", \"Humidity\")"
   ]
  },
  {
   "cell_type": "markdown",
   "metadata": {},
   "source": [
    "####  Northern Hemisphere - Wind Speed (mph) vs. Latitude Linear Regression"
   ]
  },
  {
   "cell_type": "code",
   "execution_count": 26,
   "metadata": {},
   "outputs": [
    {
     "data": {
      "image/png": "[encoded data removed]",
      "text/plain": [
       "<Figure size 432x288 with 1 Axes>"
      ]
     },
     "metadata": {
      "needs_background": "light"
     },
     "output_type": "display_data"
    },
    {
     "name": "stdout",
     "output_type": "stream",
     "text": [
      "The r-squared is: 0.04472739353755058\n"
     ]
    }
   ],
   "source": [
    "regression(north_df[\"lat\"], north_df[\"wind\"],\"Wind Speed vs. Latitude in the Northern Hempisphere\", \"Latitude\", \"Wind Speed (mph)\")"
   ]
  },
  {
   "cell_type": "markdown",
   "metadata": {},
   "source": [
    "####  Southern Hemisphere - Wind Speed (mph) vs. Latitude Linear Regression"
   ]
  },
  {
   "cell_type": "code",
   "execution_count": 27,
   "metadata": {},
   "outputs": [
    {
     "data": {
      "image/png": "[encoded data removed]",
      "text/plain": [
       "<Figure size 432x288 with 1 Axes>"
      ]
     },
     "metadata": {
      "needs_background": "light"
     },
     "output_type": "display_data"
    },
    {
     "name": "stdout",
     "output_type": "stream",
     "text": [
      "The r-squared is: 0.05330102658326989\n"
     ]
    }
   ],
   "source": [
    "regression(south_df[\"lat\"], south_df[\"wind\"],\"Wind Speed vs. Latitude in the Southern Hempisphere\", \"Latitude\", \"Wind Speed (mph)\")"
   ]
  },
  {
   "cell_type": "code",
   "execution_count": null,
   "metadata": {},
   "outputs": [],
   "source": []
  }
 ],
 "metadata": {
  "anaconda-cloud": {},
  "kernel_info": {
   "name": "python3"
  },
  "kernelspec": {
   "display_name": "Python 3",
   "language": "python",
   "name": "python3"
  },
  "language_info": {
   "codemirror_mode": {
    "name": "ipython",
    "version": 3
   },
   "file_extension": ".py",
   "mimetype": "text/x-python",
   "name": "python",
   "nbconvert_exporter": "python",
   "pygments_lexer": "ipython3",
   "version": "3.6.10"
  },
  "latex_envs": {
   "LaTeX_envs_menu_present": true,
   "autoclose": false,
   "autocomplete": true,
   "bibliofile": "biblio.bib",
   "cite_by": "apalike",
   "current_citInitial": 1,
   "eqLabelWithNumbers": true,
   "eqNumInitial": 1,
   "hotkeys": {
    "equation": "Ctrl-E",
    "itemize": "Ctrl-I"
   },
   "labels_anchors": false,
   "latex_user_defs": false,
   "report_style_numbering": false,
   "user_envs_cfg": false
  },
  "nteract": {
   "version": "0.12.3"
  }
 },
 "nbformat": 4,
 "nbformat_minor": 2
}
